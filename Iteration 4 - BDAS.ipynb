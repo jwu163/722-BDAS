{
 "cells": [
  {
   "cell_type": "code",
   "execution_count": 1,
   "metadata": {},
   "outputs": [],
   "source": [
    "import findspark\n",
    "findspark.init('/home/ubuntu/spark-2.1.1-bin-hadoop2.7')\n",
    "import pyspark\n",
    "from pyspark.sql import SparkSession\n",
    "spark = SparkSession.builder.appName('BDAS-jwu163').getOrCreate()"
   ]
  },
  {
   "cell_type": "code",
   "execution_count": 2,
   "metadata": {},
   "outputs": [],
   "source": [
    "import pyspark.sql.functions as f\n",
    "from pyspark.sql.types import (StructField,StringType,IntegerType,StructType)\n",
    "from pyspark.ml.feature import ChiSqSelector, VectorAssembler, OneHotEncoder,\\\n",
    "    StringIndexer, IndexToString\n",
    "from pyspark.ml.linalg import Vectors\n",
    "import gc"
   ]
  },
  {
   "cell_type": "markdown",
   "metadata": {},
   "source": [
    "Reading the file and infer the data schema:"
   ]
  },
  {
   "cell_type": "code",
   "execution_count": 5,
   "metadata": {},
   "outputs": [],
   "source": [
    "crime_raw = spark.read.csv('Data/crime1.csv', header = True, inferSchema=True).union(\n",
    "    spark.read.csv('Data/crime2.csv', header = True, inferSchema=True)).union(\n",
    "    spark.read.csv('Data/crime3.csv', header = True, inferSchema=True))"
   ]
  },
  {
   "cell_type": "code",
   "execution_count": 6,
   "metadata": {
    "scrolled": true
   },
   "outputs": [],
   "source": [
    "crime_desc = crime_raw.describe()"
   ]
  },
  {
   "cell_type": "markdown",
   "metadata": {},
   "source": [
    "Produce a summary of the raw data frame"
   ]
  },
  {
   "cell_type": "code",
   "execution_count": 7,
   "metadata": {},
   "outputs": [
    {
     "name": "stdout",
     "output_type": "stream",
     "text": [
      "+-------+---------------+------------------+------------------+--------------------+--------+-----------------+\n",
      "|summary|INCIDENT_NUMBER|      OFFENSE_CODE|OFFENSE_CODE_GROUP| OFFENSE_DESCRIPTION|DISTRICT|   REPORTING_AREA|\n",
      "+-------+---------------+------------------+------------------+--------------------+--------+-----------------+\n",
      "|  count|         319073|            319073|            319073|              319073|  317308|           319073|\n",
      "|   mean|    1.4205255E8| 2317.546956339145|              null|                null|    null|383.2111316732648|\n",
      "| stddev|            NaN|1185.2855429417043|              null|                null|    null|242.2869365644474|\n",
      "|    min|      142052550|               111|Aggravated Assault|A&B HANDS, FEET, ...|      A1|                 |\n",
      "|    max|     I182070945|              3831|   Warrant Arrests|WEAPON - OTHER - ...|      E5|               99|\n",
      "+-------+---------------+------------------+------------------+--------------------+--------+-----------------+\n",
      "\n",
      "+-------+----------------+------------------+------------------+-----------+------------------+--------+\n",
      "|summary|OCCURRED_ON_DATE|              YEAR|             MONTH|DAY_OF_WEEK|              HOUR|UCR_PART|\n",
      "+-------+----------------+------------------+------------------+-----------+------------------+--------+\n",
      "|  count|          319073|            319073|            319073|     319073|            319073|  318983|\n",
      "|   mean|            null|2016.5605864488691| 6.609719405903978|       null|13.118204924891796|    null|\n",
      "| stddev|            null|0.9963437054196491|3.2736908462624563|       null|  6.29420526594395|    null|\n",
      "|    min|   1/1/2016 0:00|              2015|                 1|     Friday|                 0|   Other|\n",
      "|    max|   9/9/2017 9:35|              2018|                12|  Wednesday|                23|Part Two|\n",
      "+-------+----------------+------------------+------------------+-----------+------------------+--------+\n",
      "\n",
      "+-------+------------------+------------------+------------------+------------------+--------------------+\n",
      "|summary|                 X|                 Y|               Lat|              Long|            Location|\n",
      "+-------+------------------+------------------+------------------+------------------+--------------------+\n",
      "|  count|            283724|            283724|            299074|            299074|              319073|\n",
      "|   mean| 769756.4109407836|2943563.5425177612|42.214381059771426|-70.90827235385404|                null|\n",
      "| stddev|11417.424122806513| 34031.49817354138| 2.159765638948793| 3.493618072460866|                null|\n",
      "|    min|         81.366781|       235.9530009|              -1.0|      -71.17867378|(-1.00000000, -1....|\n",
      "|    max|        795095.727|       2973999.692|       42.39504158|              -1.0|(42.39504158, -71...|\n",
      "+-------+------------------+------------------+------------------+------------------+--------------------+\n",
      "\n"
     ]
    }
   ],
   "source": [
    "crime_desc.select(['summary']+crime_desc.columns[1:7]).show()\n",
    "crime_desc.select(['summary']+crime_desc.columns[8:14]).show()\n",
    "crime_desc.select(['summary']+crime_desc.columns[15:21]).show()"
   ]
  },
  {
   "cell_type": "raw",
   "metadata": {},
   "source": [
    "import matplotlib.pyplot as plt\n",
    "import seaborn as sns\n",
    "import pandas as pd\n",
    "\n",
    "rd = raw_data.toPandas()\n",
    "\n",
    "cpl = sns.color_palette(\"Blues\", 1)\n",
    "plt.figure(figsize=(15,5))\n",
    "\n",
    "# DAY_OF_WEEK\n",
    "sns.catplot(y=\"DAY_OF_WEEK\", kind='count', data=rd, palette=cpl)\n",
    "plt.show()\n",
    "sns.countplot(x=\"DAY_OF_WEEK\", data=rd[rd['SHOOTING']=='Y'],\n",
    "              hue='SHOOTING')\n",
    "plt.show()\n",
    "# HOUR\n",
    "sns.countplot(x=\"HOUR\", data=rd, palette=cpl)\n",
    "plt.show()\n",
    "sns.countplot(x=\"HOUR\", data=raw_data[rd['SHOOTING']=='Y'], \n",
    "              hue='SHOOTING')\n",
    "plt.show()\n",
    "# UCR_PART\n",
    "sns.countplot(x=\"UCR_PART\", data=rd, palette=cpl)\n",
    "plt.show()\n",
    "sns.countplot(x=\"UCR_PART\", data=rd[rd['SHOOTING']=='Y'],\n",
    "              hue='SHOOTING')\n",
    "plt.show()\n",
    "# DISTRICT\n",
    "sns.countplot(x=\"DISTRICT\", data=rd, palette=cpl)\n",
    "plt.show()\n",
    "sns.countplot(x=\"DISTRICT\", data=rd[rd['SHOOTING']=='Y'], \n",
    "              hue='SHOOTING')\n",
    "plt.show()\n",
    "# OFFENSE_CODE_GROUP\n",
    "plt.figure(figsize=(10,20))\n",
    "sns.countplot(y=\"OFFENSE_CODE_GROUP\", data=rd, palette=cpl)\n",
    "plt.show()\n",
    "plt.figure(figsize=(10,10))\n",
    "sns.countplot(y=\"OFFENSE_CODE_GROUP\", data=rd[rd['SHOOTING']=='Y'],\n",
    "              hue='SHOOTING')"
   ]
  },
  {
   "cell_type": "code",
   "execution_count": 50,
   "metadata": {},
   "outputs": [
    {
     "name": "stdout",
     "output_type": "stream",
     "text": [
      "root\n",
      " |-- INCIDENT_NUMBER: string (nullable = true)\n",
      " |-- OFFENSE_CODE: integer (nullable = true)\n",
      " |-- OFFENSE_CODE_GROUP: string (nullable = true)\n",
      " |-- OFFENSE_DESCRIPTION: string (nullable = true)\n",
      " |-- DISTRICT: string (nullable = true)\n",
      " |-- REPORTING_AREA: string (nullable = true)\n",
      " |-- SHOOTING: string (nullable = true)\n",
      " |-- OCCURRED_ON_DATE: string (nullable = true)\n",
      " |-- YEAR: integer (nullable = true)\n",
      " |-- MONTH: integer (nullable = true)\n",
      " |-- DAY_OF_WEEK: string (nullable = true)\n",
      " |-- HOUR: integer (nullable = true)\n",
      " |-- UCR_PART: string (nullable = true)\n",
      " |-- STREET: string (nullable = true)\n",
      " |-- X: double (nullable = true)\n",
      " |-- Y: double (nullable = true)\n",
      " |-- Lat: double (nullable = true)\n",
      " |-- Long: double (nullable = true)\n",
      " |-- Location: string (nullable = true)\n",
      "\n"
     ]
    }
   ],
   "source": [
    "crime_raw.printSchema()"
   ]
  },
  {
   "cell_type": "markdown",
   "metadata": {},
   "source": [
    "A lot of columns are not useful due to being duplicate information, they are dropped"
   ]
  },
  {
   "cell_type": "code",
   "execution_count": 51,
   "metadata": {},
   "outputs": [
    {
     "name": "stdout",
     "output_type": "stream",
     "text": [
      "['OFFENSE_CODE', 'OFFENSE_CODE_GROUP', 'DISTRICT', 'SHOOTING', 'YEAR', 'MONTH', 'DAY_OF_WEEK', 'HOUR', 'UCR_PART', 'X', 'Y']\n"
     ]
    }
   ],
   "source": [
    "waste_cols = ['INCIDENT_NUMBER', 'OFFENSE_DESCRIPTION', 'REPORTING_AREA', \n",
    "              'OCCURRED_ON_DATE', 'STREET', 'Lat', 'Long', 'Location']\n",
    "\n",
    "crime_sel = crime_raw.drop(*waste_cols)\n",
    "print(crime_sel.columns)"
   ]
  },
  {
   "cell_type": "markdown",
   "metadata": {},
   "source": [
    "To discover the outliers, a Z-score is calculated for all records of X and Y.<br>\n",
    "The z-score is calculated as <br>\n",
    "$\\frac{X-\\mu}{\\sigma}$"
   ]
  },
  {
   "cell_type": "code",
   "execution_count": 52,
   "metadata": {},
   "outputs": [
    {
     "name": "stdout",
     "output_type": "stream",
     "text": [
      "Missing records:\n",
      "+------------+------------------+--------+--------+----+-----+-----------+----+--------+-----+-----+\n",
      "|OFFENSE_CODE|OFFENSE_CODE_GROUP|DISTRICT|SHOOTING|YEAR|MONTH|DAY_OF_WEEK|HOUR|UCR_PART|    X|    Y|\n",
      "+------------+------------------+--------+--------+----+-----+-----------+----+--------+-----+-----+\n",
      "|           0|                 0|    1765|  318054|   0|    0|          0|   0|      90|35349|35349|\n",
      "+------------+------------------+--------+--------+----+-----+-----------+----+--------+-----+-----+\n",
      "\n"
     ]
    }
   ],
   "source": [
    "print('Missing records:')\n",
    "crime_sel.select([f.count(f.when(f.isnull(c), c)).alias(c) for c in crime_sel.columns]).show()"
   ]
  },
  {
   "cell_type": "code",
   "execution_count": 53,
   "metadata": {},
   "outputs": [
    {
     "data": {
      "text/plain": [
       "{'X_avg': 769756.4109410138,\n",
       " 'X_sd': 11417.424122806535,\n",
       " 'Y_avg': 2943563.5425176807,\n",
       " 'Y_sd': 34031.49817354141}"
      ]
     },
     "execution_count": 53,
     "metadata": {},
     "output_type": "execute_result"
    }
   ],
   "source": [
    "stats = crime_sel.agg(\n",
    "    f.stddev(f.col(\"X\")).alias(\"X_sd\"), \n",
    "    f.mean(f.col(\"X\")).alias(\"X_avg\"),\n",
    "    f.stddev(f.col(\"Y\")).alias(\"Y_sd\"), \n",
    "    f.mean(f.col(\"Y\")).alias(\"Y_avg\")).first().asDict()\n",
    "stats"
   ]
  },
  {
   "cell_type": "code",
   "execution_count": 54,
   "metadata": {},
   "outputs": [],
   "source": [
    "crime_out = crime_sel.withColumn(\n",
    "    'X_z', f.abs(crime_sel['X'] - stats['X_avg']) / stats['X_sd']\n",
    ").withColumn(\n",
    "    'Y_z', f.abs(crime_sel['Y'] - stats['Y_avg']) / stats['Y_sd']\n",
    ")"
   ]
  },
  {
   "cell_type": "code",
   "execution_count": 55,
   "metadata": {},
   "outputs": [
    {
     "name": "stdout",
     "output_type": "stream",
     "text": [
      "Outlier count in X: 34\n",
      "Outlier count in Y: 34\n"
     ]
    }
   ],
   "source": [
    "for c in ['X', 'Y']:\n",
    "    print('Outlier count in '+c+':', crime_out.filter(c+'_z >= 3').count())"
   ]
  },
  {
   "cell_type": "markdown",
   "metadata": {},
   "source": [
    "All outlier are dropped<br>\n",
    "Missing values in X and Y are imputed with mean<br>\n",
    "Missing values in UCR_PART is imputed as 'Other'<br>"
   ]
  },
  {
   "cell_type": "code",
   "execution_count": 56,
   "metadata": {},
   "outputs": [
    {
     "name": "stdout",
     "output_type": "stream",
     "text": [
      "Outlier count in X: 0\n",
      "Outlier count in Y: 0\n",
      "Missing records:\n",
      "+------------+------------------+--------+--------+----+-----+-----------+----+--------+---+---+\n",
      "|OFFENSE_CODE|OFFENSE_CODE_GROUP|DISTRICT|SHOOTING|YEAR|MONTH|DAY_OF_WEEK|HOUR|UCR_PART|  X|  Y|\n",
      "+------------+------------------+--------+--------+----+-----+-----------+----+--------+---+---+\n",
      "|           0|                 0|       0|       0|   0|    0|          0|   0|       0|  0|  0|\n",
      "+------------+------------------+--------+--------+----+-----+-----------+----+--------+---+---+\n",
      "\n",
      "Number of records: 317274\n"
     ]
    }
   ],
   "source": [
    "crime_clean = crime_out.\\\n",
    "    na.fill(0, subset=['X_z', 'Y_z']).\\\n",
    "    filter('X_z < 3').\\\n",
    "    filter('Y_z < 3').\\\n",
    "    na.drop(subset=[\"DISTRICT\"]).\\\n",
    "    na.fill('N', subset=['SHOOTING']).\\\n",
    "    na.fill('Other', subset=['UCR_PART']).\\\n",
    "    na.fill(stats['X_avg'], subset=['X']).\\\n",
    "    na.fill(stats['Y_avg'], subset=['Y'])\n",
    "\n",
    "for c in ['X', 'Y']:\n",
    "    print('Outlier count in '+c+':', crime_clean.filter(c+'_z >= 3').count())\n",
    "crime_clean = crime_clean.drop(*['X_z', 'Y_z'])\n",
    "print('Missing records:')\n",
    "crime_clean.select([f.count(f.when(f.isnull(c), c)).alias(c) for c in crime_clean.columns]).show()\n",
    "print('Number of records:', crime_clean.count())"
   ]
  },
  {
   "cell_type": "code",
   "execution_count": 57,
   "metadata": {},
   "outputs": [],
   "source": [
    "crime_clean = crime_clean.withColumn(\n",
    "    'IS_NIGHT',\n",
    "    f.when((f.col('HOUR') < 6) | (f.col('HOUR') > 20), True).otherwise(False)\n",
    ")"
   ]
  },
  {
   "cell_type": "code",
   "execution_count": 58,
   "metadata": {},
   "outputs": [
    {
     "name": "stdout",
     "output_type": "stream",
     "text": [
      "+----+--------+\n",
      "|HOUR|IS_NIGHT|\n",
      "+----+--------+\n",
      "|  13|   false|\n",
      "|   0|    true|\n",
      "|  19|   false|\n",
      "|  21|    true|\n",
      "|  21|    true|\n",
      "+----+--------+\n",
      "only showing top 5 rows\n",
      "\n"
     ]
    }
   ],
   "source": [
    "crime_clean.select(['HOUR', 'IS_NIGHT']).show(n=5)"
   ]
  },
  {
   "cell_type": "code",
   "execution_count": 59,
   "metadata": {},
   "outputs": [
    {
     "name": "stdout",
     "output_type": "stream",
     "text": [
      "+----+--------------------+\n",
      "|CODE|                NAME|\n",
      "+----+--------------------+\n",
      "| 111|MURDER NON-NEGLIG...|\n",
      "| 111|MURDER, NON-NEGLI...|\n",
      "| 112|KILLING OF FELON ...|\n",
      "| 112|KILLING OF FELON ...|\n",
      "| 113|KILLING OF FELON ...|\n",
      "+----+--------------------+\n",
      "only showing top 5 rows\n",
      "\n"
     ]
    }
   ],
   "source": [
    "names_raw = spark.read.csv('Data/rmsoffensecodes.csv', header = True, inferSchema=True)\n",
    "names_raw.sort('CODE').show(n=5)"
   ]
  },
  {
   "cell_type": "code",
   "execution_count": 60,
   "metadata": {},
   "outputs": [
    {
     "name": "stdout",
     "output_type": "stream",
     "text": [
      "+----+--------------------+\n",
      "|CODE|                NAME|\n",
      "+----+--------------------+\n",
      "| 111|MURDER, NON-NEGLI...|\n",
      "| 112|KILLING OF FELON ...|\n",
      "| 113|KILLING OF FELON ...|\n",
      "| 114|KILLING OF POLICE...|\n",
      "| 121|MANSLAUGHTER - VE...|\n",
      "+----+--------------------+\n",
      "only showing top 5 rows\n",
      "\n"
     ]
    }
   ],
   "source": [
    "names_clean = names_raw.dropDuplicates(['CODE'])\n",
    "names_clean.sort('CODE').show(n=5)"
   ]
  },
  {
   "cell_type": "code",
   "execution_count": 61,
   "metadata": {},
   "outputs": [
    {
     "name": "stdout",
     "output_type": "stream",
     "text": [
      "Missing records:\n",
      "+------------------+--------+--------+----+-----+-----------+----+--------+---+---+--------+----+\n",
      "|OFFENSE_CODE_GROUP|DISTRICT|SHOOTING|YEAR|MONTH|DAY_OF_WEEK|HOUR|UCR_PART|  X|  Y|IS_NIGHT|NAME|\n",
      "+------------------+--------+--------+----+-----+-----------+----+--------+---+---+--------+----+\n",
      "|                 0|       0|       0|   0|    0|          0|   0|       0|  0|  0|       0|   0|\n",
      "+------------------+--------+--------+----+-----+-----------+----+--------+---+---+--------+----+\n",
      "\n"
     ]
    }
   ],
   "source": [
    "df = crime_clean.join(names_clean, \n",
    "                               crime_clean.OFFENSE_CODE == names_clean.CODE, \n",
    "                               'left').drop('OFFENSE_CODE', 'CODE')\n",
    "print('Missing records:')\n",
    "df.select([f.count(f.when(f.isnull(c), c)).alias(c) for c in df.columns]).show()"
   ]
  },
  {
   "cell_type": "code",
   "execution_count": 62,
   "metadata": {},
   "outputs": [
    {
     "name": "stdout",
     "output_type": "stream",
     "text": [
      "OFFENSE_CODE_GROUP\n",
      "DISTRICT\n",
      "YEAR\n",
      "MONTH\n",
      "DAY_OF_WEEK\n",
      "HOUR\n",
      "UCR_PART\n",
      "X\n",
      "Y\n",
      "IS_NIGHT\n",
      "IF_SHOOT\n"
     ]
    }
   ],
   "source": [
    "df = df.drop('NAME')\n",
    "df = df.withColumn('IF_SHOOT', f.when(f.col('SHOOTING') == 'Y', 1).otherwise(0)).drop('SHOOTING')\n",
    "print(*df.columns, sep='\\n')"
   ]
  },
  {
   "cell_type": "raw",
   "metadata": {},
   "source": [
    "def skew(df, c):\n",
    "    s = str(df.agg(f.skewness(c)).collect()[0])[4:-1]\n",
    "    return s[s.find(\"=\")+1:]\n",
    "    \n",
    "plt.suptitle('Skewness of X: ' + skew(df, \"X\"))\n",
    "sns.distplot(df.X)\n",
    "plt.show()\n",
    "sns.distplot(df.Y)\n",
    "plt.suptitle('Skewness of Y: ' + skew(df, \"Y\"))\n",
    "plt.show()\n",
    "\n",
    "# Log\n",
    "t = df.withColumn(\"logX\", log(f.col('X'))).withColumn('logY', log(f.col('Y')))\n",
    "plt.suptitle('Skewness of log(X): ' + skew(t, \"X\"))\n",
    "sns.distplot(np.log(df.X))\n",
    "plt.show()\n",
    "sns.distplot(np.log(df.Y))\n",
    "plt.suptitle('Skewness of log(Y): ' + skew(t, \"Y\"))\n",
    "plt.show()\n",
    "\n",
    "# Inver\n",
    "t = df.withColumn(\"invX\", 1/(f.col('X'))).withColumn('invY', 1/(f.col('Y')))\n",
    "plt.suptitle('Sknewness of 1/X: ' + skew(t, \"X\"))\n",
    "sns.distplot(1/df.X)\n",
    "plt.show()\n",
    "sns.distplot(1/df.Y)\n",
    "plt.suptitle('Skewness of 1/Y: ' + skew(t, \"Y\"))\n",
    "plt.show()\n",
    "\n",
    "# Sqrt\n",
    "t = df.withColumn(\"invX\", sqrt(f.col('X'))).withColumn('invY', sqrt(f.col('Y')))\n",
    "plt.suptitle('Skewness of sqrt(X): ' + skew(t, \"X\"))\n",
    "sns.distplot(np.sqrt(df.X))\n",
    "plt.show()\n",
    "sns.distplot(np.sqrt(df.Y))\n",
    "plt.suptitle('Skewness of sqrt(Y): ' + skew(t, \"Y\"))\n",
    "plt.show()"
   ]
  },
  {
   "cell_type": "code",
   "execution_count": 19,
   "metadata": {},
   "outputs": [],
   "source": [
    "scol = ['OFFENSE_CODE_GROUP','DISTRICT','DAY_OF_WEEK','UCR_PART']\n",
    "strInd = {\n",
    "    c: {'enc': StringIndexer(inputCol=c, outputCol=c+'_ind')}\n",
    "    for c in scol\n",
    "}"
   ]
  },
  {
   "cell_type": "code",
   "execution_count": 20,
   "metadata": {},
   "outputs": [
    {
     "data": {
      "text/plain": [
       "554"
      ]
     },
     "execution_count": 20,
     "metadata": {},
     "output_type": "execute_result"
    }
   ],
   "source": [
    "del names_clean\n",
    "del crime_clean\n",
    "del crime_sel\n",
    "del stats\n",
    "del crime_out\n",
    "del crime_raw\n",
    "del crime_desc\n",
    "del names_raw\n",
    "gc.collect()"
   ]
  },
  {
   "cell_type": "code",
   "execution_count": 21,
   "metadata": {},
   "outputs": [
    {
     "name": "stdout",
     "output_type": "stream",
     "text": [
      "OFFENSE_CODE_GROUP\n",
      "DISTRICT\n",
      "YEAR\n",
      "MONTH\n",
      "DAY_OF_WEEK\n",
      "HOUR\n",
      "UCR_PART\n",
      "X\n",
      "Y\n",
      "IS_NIGHT\n",
      "IF_SHOOT\n",
      "OFFENSE_CODE_GROUP_ind\n",
      "OFFENSE_CODE_GROUP_ohe\n",
      "DISTRICT_ind\n",
      "DISTRICT_ohe\n",
      "DAY_OF_WEEK_ind\n",
      "DAY_OF_WEEK_ohe\n",
      "UCR_PART_ind\n",
      "UCR_PART_ohe\n"
     ]
    }
   ],
   "source": [
    "idf = df.drop('?')\n",
    "for c in scol:\n",
    "    mod = strInd[c]['enc'].fit(idf)\n",
    "    idf = mod.transform(idf)\n",
    "    strInd[c]['lab'] = mod.labels\n",
    "    idf = OneHotEncoder(inputCol = c+'_ind', outputCol = c+'_ohe').transform(idf)\n",
    "print(*idf.columns, sep='\\n')"
   ]
  },
  {
   "cell_type": "code",
   "execution_count": 22,
   "metadata": {},
   "outputs": [
    {
     "name": "stdout",
     "output_type": "stream",
     "text": [
      "OFFENSE_CODE_GROUP\n",
      "DISTRICT\n",
      "YEAR\n",
      "MONTH\n",
      "DAY_OF_WEEK\n",
      "HOUR\n",
      "UCR_PART\n",
      "X\n",
      "Y\n",
      "IS_NIGHT\n",
      "IF_SHOOT\n",
      "OFFENSE_CODE_GROUP_ohe\n",
      "DISTRICT_ohe\n",
      "DAY_OF_WEEK_ohe\n",
      "UCR_PART_ohe\n"
     ]
    }
   ],
   "source": [
    "idf = idf.drop(*[c+'_ind' for c in scol])\n",
    "print(*idf.columns, sep='\\n')"
   ]
  },
  {
   "cell_type": "code",
   "execution_count": 23,
   "metadata": {},
   "outputs": [],
   "source": [
    "f_inputs = ['YEAR','MONTH','HOUR','X','Y','IS_NIGHT']+[c+'_ohe' for c in scol]"
   ]
  },
  {
   "cell_type": "code",
   "execution_count": 24,
   "metadata": {},
   "outputs": [],
   "source": [
    "assembler = VectorAssembler(\n",
    "  inputCols=f_inputs,\n",
    "              outputCol=\"features\")\n",
    "\n",
    "# Let's transform the data. \n",
    "vec_data = assembler.transform(idf)"
   ]
  },
  {
   "cell_type": "code",
   "execution_count": 25,
   "metadata": {},
   "outputs": [
    {
     "name": "stdout",
     "output_type": "stream",
     "text": [
      "+----------------------+--------------+---------------+-------------+\n",
      "|OFFENSE_CODE_GROUP_ohe|  DISTRICT_ohe|DAY_OF_WEEK_ohe| UCR_PART_ohe|\n",
      "+----------------------+--------------+---------------+-------------+\n",
      "|        (66,[1],[1.0])|(11,[6],[1.0])|      (6,[],[])|(3,[2],[1.0])|\n",
      "+----------------------+--------------+---------------+-------------+\n",
      "only showing top 1 row\n",
      "\n"
     ]
    }
   ],
   "source": [
    "vec_data.select([c+'_ohe' for c in scol]).show(1)"
   ]
  },
  {
   "cell_type": "code",
   "execution_count": 26,
   "metadata": {},
   "outputs": [],
   "source": [
    "selector = ChiSqSelector(numTopFeatures=20, featuresCol=\"features\",\n",
    "                         outputCol=\"selectedFeatures\", labelCol=\"IF_SHOOT\")\n",
    "\n",
    "selector_model = selector.fit(vec_data)\n",
    "\n",
    "fs_result = selector_model.transform(vec_data)"
   ]
  },
  {
   "cell_type": "code",
   "execution_count": 27,
   "metadata": {},
   "outputs": [
    {
     "name": "stdout",
     "output_type": "stream",
     "text": [
      "[2, 3, 4, 5, 6, 7, 19, 20, 34, 42, 44, 57, 61, 72, 75, 76, 89, 90, 91, 88]\n",
      "['YEAR', 'MONTH', 'HOUR', 'X', 'Y', 'IS_NIGHT', 'OFFENSE_CODE_GROUP_ohe', 'DISTRICT_ohe', 'DAY_OF_WEEK_ohe', 'UCR_PART_ohe']\n"
     ]
    }
   ],
   "source": [
    "f_used = selector_model.selectedFeatures\n",
    "print(selector_model.selectedFeatures)\n",
    "print(f_inputs)"
   ]
  },
  {
   "cell_type": "raw",
   "metadata": {},
   "source": [
    "fs_result = vec_data\n",
    "f_used = range(92)"
   ]
  },
  {
   "cell_type": "code",
   "execution_count": 28,
   "metadata": {},
   "outputs": [],
   "source": [
    "selected_lab = {}\n",
    "for ind in f_used:\n",
    "    if ind < 6:\n",
    "        selected_lab[ind] = f_inputs[ind]\n",
    "    elif ind < 72:\n",
    "        selected_lab[ind] = 'OFFENSE_CODE_GROUP: ' +  strInd['OFFENSE_CODE_GROUP']['lab'][ind - 6]\n",
    "    elif ind < 83:\n",
    "        selected_lab[ind] = 'DISTRICT: ' + strInd['DISTRICT']['lab'][ind - 72]\n",
    "    elif ind < 89:\n",
    "        selected_lab[ind] = 'DAY_OF_WEEK: ' + strInd['DAY_OF_WEEK']['lab'][ind - 83]\n",
    "    else:\n",
    "        selected_lab[ind] = 'UCR_PART: ' + strInd['UCR_PART']['lab'][ind - 89]"
   ]
  },
  {
   "cell_type": "code",
   "execution_count": 29,
   "metadata": {},
   "outputs": [
    {
     "name": "stdout",
     "output_type": "stream",
     "text": [
      "+--------------------+--------+\n",
      "|            features|IF_SHOOT|\n",
      "+--------------------+--------+\n",
      "|(20,[0,1,2,5,19],...|       0|\n",
      "|(20,[1,2,3,18],[7...|       0|\n",
      "|(20,[0,1,2,17],[1...|       0|\n",
      "+--------------------+--------+\n",
      "only showing top 3 rows\n",
      "\n"
     ]
    }
   ],
   "source": [
    "full_df = fs_result.select(['selectedFeatures', \n",
    "                            'IF_SHOOT']).withColumnRenamed('selectedFeatures', \n",
    "                                                           'features')\n",
    "full_df.show(3)"
   ]
  },
  {
   "cell_type": "raw",
   "metadata": {},
   "source": [
    "full_df = fs_result.select(['features', 'IF_SHOOT'])"
   ]
  },
  {
   "cell_type": "code",
   "execution_count": 30,
   "metadata": {},
   "outputs": [
    {
     "data": {
      "text/plain": [
       "254"
      ]
     },
     "execution_count": 30,
     "metadata": {},
     "output_type": "execute_result"
    }
   ],
   "source": [
    "del selector\n",
    "del selector_model\n",
    "del fs_result\n",
    "del assembler\n",
    "del vec_data\n",
    "del idf\n",
    "gc.collect()"
   ]
  },
  {
   "cell_type": "code",
   "execution_count": 31,
   "metadata": {},
   "outputs": [
    {
     "name": "stdout",
     "output_type": "stream",
     "text": [
      "train: 222391\n",
      "+--------------------+--------+\n",
      "|            features|IF_SHOOT|\n",
      "+--------------------+--------+\n",
      "|(20,[0,1,2],[6.0,...|       0|\n",
      "|(20,[0,1,2],[6.0,...|       0|\n",
      "|(20,[0,1,2],[6.0,...|       0|\n",
      "|(20,[0,1,2],[6.0,...|       0|\n",
      "|(20,[0,1,2],[6.0,...|       0|\n",
      "+--------------------+--------+\n",
      "only showing top 5 rows\n",
      "\n",
      "test: 94883\n",
      "+--------------------+--------+\n",
      "|            features|IF_SHOOT|\n",
      "+--------------------+--------+\n",
      "|(20,[0,1,2],[6.0,...|       0|\n",
      "|(20,[0,1,2],[6.0,...|       0|\n",
      "|(20,[0,1,2],[7.0,...|       0|\n",
      "|(20,[0,1,2],[7.0,...|       0|\n",
      "|(20,[0,1,2],[7.0,...|       0|\n",
      "+--------------------+--------+\n",
      "only showing top 5 rows\n",
      "\n"
     ]
    }
   ],
   "source": [
    "neg_split = full_df.filter('IF_SHOOT == 0').randomSplit([0.7, 0.3], 1)\n",
    "pos_split = full_df.filter('IF_SHOOT == 1').randomSplit([0.7, 0.3], 1)\n",
    "train_df = neg_split[0].union(pos_split[0])\n",
    "test_df = neg_split[1].union(pos_split[1])\n",
    "\n",
    "print('train:', train_df.count())\n",
    "train_df.show(5)\n",
    "print('test:', test_df.count())\n",
    "test_df.show(5)"
   ]
  },
  {
   "cell_type": "code",
   "execution_count": 32,
   "metadata": {},
   "outputs": [
    {
     "name": "stdout",
     "output_type": "stream",
     "text": [
      "ratio: 0.003225428102275393\n",
      "pos after balance: 7150\n",
      "neg after balance: 7112\n"
     ]
    }
   ],
   "source": [
    "pos_train = train_df.filter('IF_SHOOT == 1')\n",
    "neg_train = train_df.filter('IF_SHOOT == 0')\n",
    "ratio = pos_train.count() / neg_train.count()\n",
    "pos_train = pos_train.withColumn(\"_\", f.explode(f.array([f.lit(x) for x in range(10)]))).drop('_')\n",
    "neg_train = neg_train.randomSplit([ratio*10, 1-ratio*10])[0]\n",
    "balance_train = pos_train.union(neg_train)\n",
    "\n",
    "\n",
    "print('ratio:', ratio)\n",
    "print('pos after balance:', pos_train.count())\n",
    "print('neg after balance:', neg_train.count())"
   ]
  },
  {
   "cell_type": "code",
   "execution_count": 33,
   "metadata": {},
   "outputs": [
    {
     "data": {
      "text/plain": [
       "29"
      ]
     },
     "execution_count": 33,
     "metadata": {},
     "output_type": "execute_result"
    }
   ],
   "source": [
    "del train_df\n",
    "del pos_train\n",
    "del neg_train\n",
    "gc.collect()"
   ]
  },
  {
   "cell_type": "code",
   "execution_count": 34,
   "metadata": {},
   "outputs": [],
   "source": [
    "from pyspark.ml.evaluation import MulticlassClassificationEvaluator\n",
    "from pyspark.ml.classification import DecisionTreeClassifier"
   ]
  },
  {
   "cell_type": "code",
   "execution_count": 35,
   "metadata": {},
   "outputs": [],
   "source": [
    "def custom_eval(pred):\n",
    "    pos = pred.filter('IF_SHOOT == 1')\n",
    "    tp = pos.filter('prediction == 1').count()\n",
    "    fn = pos.filter('prediction == 0').count()\n",
    "    del pos\n",
    "    neg = pred.filter('IF_SHOOT == 0')\n",
    "    fp = neg.filter('prediction == 1').count()\n",
    "    tn = neg.filter('prediction == 0').count() \n",
    "    del neg\n",
    "    print('True positive rate:', tp/(tp+fn))\n",
    "    print('False positive rate', fp/(tn+fp))"
   ]
  },
  {
   "cell_type": "raw",
   "metadata": {},
   "source": [
    "dtree = DecisionTreeClassifier(labelCol=\"IF_SHOOT\")\n",
    "dtree_model = dtree.fit(balance_train)\n",
    "custom_eval(dtree_model.transform(test_df))\n",
    "print('Tree depth:', dtree_model.depth)\n",
    "del dtree\n",
    "del dtree_model"
   ]
  },
  {
   "cell_type": "raw",
   "metadata": {},
   "source": [
    "dtree2 = DecisionTreeClassifier(maxDepth=4, labelCol=\"IF_SHOOT\")\n",
    "custom_eval(dtree2.fit(balance_train).transform(test_df))\n",
    "del dtree2"
   ]
  },
  {
   "cell_type": "code",
   "execution_count": 36,
   "metadata": {},
   "outputs": [
    {
     "name": "stdout",
     "output_type": "stream",
     "text": [
      "True positive rate: 0.804635761589404\n",
      "False positive rate 0.049608272274558315\n"
     ]
    },
    {
     "data": {
      "text/plain": [
       "263"
      ]
     },
     "execution_count": 36,
     "metadata": {},
     "output_type": "execute_result"
    }
   ],
   "source": [
    "dtree6 = DecisionTreeClassifier(maxDepth=5, minInstancesPerNode=20, labelCol=\"IF_SHOOT\")\n",
    "custom_eval(dtree6.fit(balance_train).transform(test_df))\n",
    "del dtree6\n",
    "gc.collect()"
   ]
  },
  {
   "cell_type": "code",
   "execution_count": 37,
   "metadata": {},
   "outputs": [
    {
     "name": "stdout",
     "output_type": "stream",
     "text": [
      "True positive rate: 0.804635761589404\n",
      "False positive rate 0.050369524534525964\n"
     ]
    }
   ],
   "source": [
    "dtree7 = DecisionTreeClassifier(maxDepth=5, minInstancesPerNode=50, labelCol=\"IF_SHOOT\")\n",
    "custom_eval(dtree7.fit(balance_train).transform(test_df))\n",
    "del dtree7"
   ]
  },
  {
   "cell_type": "code",
   "execution_count": 38,
   "metadata": {},
   "outputs": [
    {
     "name": "stdout",
     "output_type": "stream",
     "text": [
      "True positive rate: 0.8145695364238411\n",
      "False positive rate 0.057389962043116485\n"
     ]
    },
    {
     "data": {
      "text/plain": [
       "242"
      ]
     },
     "execution_count": 38,
     "metadata": {},
     "output_type": "execute_result"
    }
   ],
   "source": [
    "dtree8 = DecisionTreeClassifier(maxDepth=5, minInstancesPerNode=80, labelCol=\"IF_SHOOT\")\n",
    "custom_eval(dtree8.fit(balance_train).transform(test_df))\n",
    "del dtree8\n",
    "gc.collect()"
   ]
  },
  {
   "cell_type": "code",
   "execution_count": 39,
   "metadata": {},
   "outputs": [
    {
     "name": "stdout",
     "output_type": "stream",
     "text": [
      "True positive rate: 0.804635761589404\n",
      "False positive rate 0.050369524534525964\n"
     ]
    }
   ],
   "source": [
    "dtree_final = DecisionTreeClassifier(maxDepth=5, minInstancesPerNode=50, labelCol=\"IF_SHOOT\")\n",
    "model_final = dtree_final.fit(balance_train)\n",
    "custom_eval(model_final.transform(test_df))"
   ]
  },
  {
   "cell_type": "code",
   "execution_count": 40,
   "metadata": {},
   "outputs": [
    {
     "name": "stdout",
     "output_type": "stream",
     "text": [
      "(0.5079763223171156, 'DISTRICT: B3')\n",
      "(0.19699819885680744, 'OFFENSE_CODE_GROUP: Firearm Violations')\n",
      "(0.10013788686387753, 'OFFENSE_CODE_GROUP: Ballistics')\n",
      "(0.09241739101227918, 'DISTRICT: B2')\n",
      "(0.08631491855681483, 'DISTRICT: A1')\n",
      "(0.005579221641675884, 'X')\n",
      "(0.004746632523628654, 'UCR_PART: Part Three')\n",
      "(0.0026617732900121524, 'OFFENSE_CODE_GROUP: Aggravated Assault')\n",
      "(0.0015171478560944923, 'HOUR')\n",
      "(0.0009474747636907397, 'Y')\n",
      "(0.0007030323180032877, 'IS_NIGHT')\n"
     ]
    }
   ],
   "source": [
    "print(*sorted([ (i, n) for (i, n) in\n",
    "               zip(model_final.featureImportances, selected_lab.values())\n",
    "               if i != 0], reverse = True), sep='\\n')"
   ]
  },
  {
   "cell_type": "code",
   "execution_count": 41,
   "metadata": {},
   "outputs": [
    {
     "name": "stdout",
     "output_type": "stream",
     "text": [
      "DecisionTreeClassificationModel (uid=DecisionTreeClassifier_47e298cb7fafce275cdc) of depth 5 with 39 nodes\n",
      "  If (OFFENSE_CODE_GROUP: Aggravated Assault is False)\n",
      "   If (OFFENSE_CODE_GROUP: Homicide is True)\n",
      "    If (Y <= 2956095.092)\n",
      "     If (HOUR <= 9.0)\n",
      "      If (HOUR <= 4.0)\n",
      "       Predict: 1.0\n",
      "      Else (HOUR > 4.0)\n",
      "       Predict: 1.0\n",
      "     Else (HOUR > 9.0)\n",
      "      Predict: 1.0\n",
      "    Else (Y > 2956095.092)\n",
      "     Predict: 1.0\n",
      "   Else (OFFENSE_CODE_GROUP: Homicide is False)\n",
      "    If (OFFENSE_CODE_GROUP: Warrant Arrests is True)\n",
      "     If (X <= 774205.8892)\n",
      "      If (DISTRICT: B2 is False)\n",
      "       Predict: 1.0\n",
      "      Else (DISTRICT: B2 is True)\n",
      "       Predict: 1.0\n",
      "     Else (X > 774205.8892)\n",
      "      Predict: 0.0\n",
      "    Else (OFFENSE_CODE_GROUP: Warrant Arrests is False)\n",
      "     If (OFFENSE_CODE_GROUP: Firearm Violations is True)\n",
      "      If (DISTRICT: B2 is True)\n",
      "       Predict: 1.0\n",
      "      Else (DISTRICT: B2 is False)\n",
      "       Predict: 1.0\n",
      "     Else (OFFENSE_CODE_GROUP: Firearm Violations is False)\n",
      "      If (OFFENSE_CODE_GROUP: Ballistics is True)\n",
      "       Predict: 1.0\n",
      "      Else (OFFENSE_CODE_GROUP: Ballistics is False)\n",
      "       Predict: 0.0\n",
      "  Else (OFFENSE_CODE_GROUP: Aggravated Assault is True)\n",
      "   If (DISTRICT: A1 is True)\n",
      "    Predict: 1.0\n",
      "   Else (DISTRICT: A1 is False)\n",
      "    If (Y <= 2948598.29)\n",
      "     If (IS_NIGHT <= 0.0)\n",
      "      If (HOUR <= 10.0)\n",
      "       Predict: 1.0\n",
      "      Else (HOUR > 10.0)\n",
      "       Predict: 1.0\n",
      "     Else (IS_NIGHT > 0.0)\n",
      "      If (Y <= 2935351.178)\n",
      "       Predict: 1.0\n",
      "      Else (Y > 2935351.178)\n",
      "       Predict: 1.0\n",
      "    Else (Y > 2948598.29)\n",
      "     If (IS_NIGHT <= 0.0)\n",
      "      If (HOUR <= 13.0)\n",
      "       Predict: 1.0\n",
      "      Else (HOUR > 13.0)\n",
      "       Predict: 1.0\n",
      "     Else (IS_NIGHT > 0.0)\n",
      "      If (Y <= 2952591.504)\n",
      "       Predict: 1.0\n",
      "      Else (Y > 2952591.504)\n",
      "       Predict: 1.0\n",
      "\n"
     ]
    }
   ],
   "source": [
    "import re\n",
    "regx = re.compile(r'(feature (\\d+))', re.M)\n",
    "m_desc = regx.sub(lambda m: selected_lab[f_used[int(m.group(2))]], model_final.toDebugString)\n",
    "print(m_desc.replace('in {1.0}', 'is True').\\\n",
    "      replace('in {0.0}', 'is False').\\\n",
    "      replace('not is True', 'is False').\\\n",
    "      replace('not is False', 'is True'))"
   ]
  }
 ],
 "metadata": {
  "kernelspec": {
   "display_name": "Python 3",
   "language": "python",
   "name": "python3"
  },
  "language_info": {
   "codemirror_mode": {
    "name": "ipython",
    "version": 3
   },
   "file_extension": ".py",
   "mimetype": "text/x-python",
   "name": "python",
   "nbconvert_exporter": "python",
   "pygments_lexer": "ipython3",
   "version": "3.5.2"
  }
 },
 "nbformat": 4,
 "nbformat_minor": 2
}
